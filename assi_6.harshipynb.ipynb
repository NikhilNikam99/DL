{
 "cells": [
  {
   "cell_type": "code",
   "execution_count": 20,
   "id": "c353746e",
   "metadata": {},
   "outputs": [],
   "source": [
    "from tensorflow import keras\n",
    "from keras.layers import Dense, Dropout,Flatten\n",
    "import matplotlib.pyplot as plt\n",
    "import seaborn as sns\n",
    "import numpy as np \n",
    "import pandas as pd"
   ]
  },
  {
   "cell_type": "code",
   "execution_count": 21,
   "id": "652ccd4f",
   "metadata": {},
   "outputs": [],
   "source": [
    "(x_train, y_train),(x_test,y_test) = keras.datasets.cifar10.load_data()\n"
   ]
  },
  {
   "cell_type": "code",
   "execution_count": 22,
   "id": "12da29f0",
   "metadata": {},
   "outputs": [],
   "source": [
    "x_train = x_train[:5000,:]\n",
    "y_train = y_train[:5000,:]\n",
    "\n",
    "x_test = x_test[:1000]\n",
    "y_test = y_test[:1000]"
   ]
  },
  {
   "cell_type": "code",
   "execution_count": 23,
   "id": "c921a0c6",
   "metadata": {},
   "outputs": [
    {
     "data": {
      "text/plain": [
       "(1000, 32, 32, 3)"
      ]
     },
     "execution_count": 23,
     "metadata": {},
     "output_type": "execute_result"
    }
   ],
   "source": [
    "x_test.shape"
   ]
  },
  {
   "cell_type": "code",
   "execution_count": 24,
   "id": "33517776",
   "metadata": {},
   "outputs": [
    {
     "data": {
      "text/plain": [
       "(5000, 10)"
      ]
     },
     "execution_count": 24,
     "metadata": {},
     "output_type": "execute_result"
    }
   ],
   "source": [
    "x_train = x_train / 255\n",
    "x_test = x_test / 255\n",
    "\n",
    "from keras.utils import to_categorical\n",
    "y_train = to_categorical(y_train , 10)\n",
    "y_test = to_categorical(y_test,10)\n",
    "y_train.shape"
   ]
  },
  {
   "cell_type": "code",
   "execution_count": 25,
   "id": "e6263767",
   "metadata": {},
   "outputs": [],
   "source": [
    "\n",
    "basemodel = keras.applications.VGG16(weights='imagenet',include_top=False,input_shape=(32,32,3))"
   ]
  },
  {
   "cell_type": "code",
   "execution_count": null,
   "id": "de56230d",
   "metadata": {},
   "outputs": [],
   "source": []
  },
  {
   "cell_type": "code",
   "execution_count": 54,
   "id": "5f7ca7a8",
   "metadata": {},
   "outputs": [],
   "source": [
    "\n",
    "for layer in basemodel.layers:\n",
    "    layer.trainable = False\n"
   ]
  },
  {
   "cell_type": "code",
   "execution_count": 27,
   "id": "f9fb8681",
   "metadata": {},
   "outputs": [],
   "source": [
    "x = Flatten()(basemodel.output)\n",
    "x = Dense(256,activation='relu')(x)\n",
    "x = Dropout(0.3)(x)\n",
    "x = Dense(128,activation='relu')(x)\n",
    "x = Dropout(0.3)(x)\n",
    "x = Dense(10,activation='softmax')(x)\n",
    "\n",
    "model = keras.models.Model(inputs = basemodel.input , outputs = x)\n",
    "model.compile(optimizer='adam',loss='categorical_crossentropy',metrics=['accuracy'])"
   ]
  },
  {
   "cell_type": "code",
   "execution_count": 28,
   "id": "40890c4f",
   "metadata": {},
   "outputs": [
    {
     "name": "stdout",
     "output_type": "stream",
     "text": [
      "Epoch 1/10\n",
      "WARNING:tensorflow:From C:\\Users\\Admin\\anaconda3\\Lib\\site-packages\\keras\\src\\utils\\tf_utils.py:492: The name tf.ragged.RaggedTensorValue is deprecated. Please use tf.compat.v1.ragged.RaggedTensorValue instead.\n",
      "\n",
      "WARNING:tensorflow:From C:\\Users\\Admin\\anaconda3\\Lib\\site-packages\\keras\\src\\engine\\base_layer_utils.py:384: The name tf.executing_eagerly_outside_functions is deprecated. Please use tf.compat.v1.executing_eagerly_outside_functions instead.\n",
      "\n",
      "79/79 [==============================] - 40s 446ms/step - loss: 2.0321 - accuracy: 0.2640 - val_loss: 1.6436 - val_accuracy: 0.4040\n",
      "Epoch 2/10\n",
      "79/79 [==============================] - 34s 433ms/step - loss: 1.6479 - accuracy: 0.4138 - val_loss: 1.4814 - val_accuracy: 0.4740\n",
      "Epoch 3/10\n",
      "79/79 [==============================] - 34s 433ms/step - loss: 1.4906 - accuracy: 0.4678 - val_loss: 1.4149 - val_accuracy: 0.4860\n",
      "Epoch 4/10\n",
      "79/79 [==============================] - 38s 485ms/step - loss: 1.3989 - accuracy: 0.5098 - val_loss: 1.3931 - val_accuracy: 0.5190\n",
      "Epoch 5/10\n",
      "79/79 [==============================] - 36s 456ms/step - loss: 1.3372 - accuracy: 0.5314 - val_loss: 1.3488 - val_accuracy: 0.5200\n",
      "Epoch 6/10\n",
      "79/79 [==============================] - 35s 445ms/step - loss: 1.2643 - accuracy: 0.5584 - val_loss: 1.3455 - val_accuracy: 0.5330\n",
      "Epoch 7/10\n",
      "79/79 [==============================] - 34s 437ms/step - loss: 1.2337 - accuracy: 0.5658 - val_loss: 1.3390 - val_accuracy: 0.5310\n",
      "Epoch 8/10\n",
      "79/79 [==============================] - 34s 432ms/step - loss: 1.1799 - accuracy: 0.5864 - val_loss: 1.3231 - val_accuracy: 0.5480\n",
      "Epoch 9/10\n",
      "79/79 [==============================] - 34s 425ms/step - loss: 1.1406 - accuracy: 0.6024 - val_loss: 1.3087 - val_accuracy: 0.5460\n",
      "Epoch 10/10\n",
      "79/79 [==============================] - 33s 423ms/step - loss: 1.0989 - accuracy: 0.6088 - val_loss: 1.2976 - val_accuracy: 0.5590\n"
     ]
    }
   ],
   "source": [
    "history = model.fit(x_train,y_train, epochs = 10,batch_size = 64,validation_data=(x_test,y_test))"
   ]
  },
  {
   "cell_type": "code",
   "execution_count": null,
   "id": "718ed38a",
   "metadata": {},
   "outputs": [],
   "source": []
  },
  {
   "cell_type": "code",
   "execution_count": 55,
   "id": "b6728e5e",
   "metadata": {},
   "outputs": [],
   "source": [
    "\n",
    "\n",
    "basemodel = keras.applications.VGG16(weights='imagenet',include_top=False,input_shape=(32,32,3))\n",
    "\n",
    "for layer in basemodel.layers:\n",
    "    layer.trainable = False\n",
    "for layer in basemodel.layers[len(basemodel.layers)-4:]:\n",
    "    layer.trainable = True\n"
   ]
  },
  {
   "cell_type": "code",
   "execution_count": 48,
   "id": "5348fd26",
   "metadata": {},
   "outputs": [],
   "source": [
    "x = Flatten()(basemodel.output)\n",
    "x = Dense(512,activation='relu')(x)\n",
    "x = Dropout(0.3)(x)\n",
    "x = Dense(256,activation='relu')(x)\n",
    "x = Dropout(0.3)(x)\n",
    "x = Dense(10,activation='softmax')(x)\n",
    "\n",
    "model = keras.models.Model(inputs=basemodel.input, outputs = x)\n",
    "\n",
    "model.compile(optimizer=keras.optimizers.Adam(learning_rate=0.001),loss='categorical_crossentropy',metrics=['accuracy'])"
   ]
  },
  {
   "cell_type": "code",
   "execution_count": 49,
   "id": "e20a1957",
   "metadata": {},
   "outputs": [
    {
     "name": "stdout",
     "output_type": "stream",
     "text": [
      "Epoch 1/10\n",
      "79/79 [==============================] - 49s 569ms/step - loss: 2.0865 - accuracy: 0.2130 - val_loss: 1.7408 - val_accuracy: 0.2850\n",
      "Epoch 2/10\n",
      "79/79 [==============================] - 43s 547ms/step - loss: 1.6011 - accuracy: 0.3754 - val_loss: 1.3924 - val_accuracy: 0.4890\n",
      "Epoch 3/10\n",
      "79/79 [==============================] - 44s 563ms/step - loss: 1.2194 - accuracy: 0.5584 - val_loss: 1.2436 - val_accuracy: 0.5640\n",
      "Epoch 4/10\n",
      "79/79 [==============================] - 45s 576ms/step - loss: 1.0213 - accuracy: 0.6456 - val_loss: 1.2394 - val_accuracy: 0.5890\n",
      "Epoch 5/10\n",
      "79/79 [==============================] - 44s 563ms/step - loss: 0.8608 - accuracy: 0.7072 - val_loss: 1.2100 - val_accuracy: 0.5970\n",
      "Epoch 6/10\n",
      "79/79 [==============================] - 44s 559ms/step - loss: 0.7938 - accuracy: 0.7312 - val_loss: 1.1550 - val_accuracy: 0.6200\n",
      "Epoch 7/10\n",
      "79/79 [==============================] - 45s 565ms/step - loss: 0.6271 - accuracy: 0.7840 - val_loss: 1.1813 - val_accuracy: 0.6540\n",
      "Epoch 8/10\n",
      "79/79 [==============================] - 45s 575ms/step - loss: 0.5696 - accuracy: 0.8122 - val_loss: 1.2484 - val_accuracy: 0.6340\n",
      "Epoch 9/10\n",
      "79/79 [==============================] - 46s 580ms/step - loss: 0.4454 - accuracy: 0.8508 - val_loss: 1.3429 - val_accuracy: 0.6530\n",
      "Epoch 10/10\n",
      "79/79 [==============================] - 45s 573ms/step - loss: 0.3835 - accuracy: 0.8702 - val_loss: 1.3695 - val_accuracy: 0.6490\n"
     ]
    }
   ],
   "source": [
    "\n",
    "history = model.fit(x_train, y_train, batch_size=64, epochs=10, validation_data=(x_test, y_test))"
   ]
  },
  {
   "cell_type": "code",
   "execution_count": 57,
   "id": "11e3a233",
   "metadata": {},
   "outputs": [
    {
     "name": "stdout",
     "output_type": "stream",
     "text": [
      "32/32 [==============================] - 7s 206ms/step - loss: 1.3695 - accuracy: 0.6490\n"
     ]
    },
    {
     "data": {
      "text/plain": [
       "[1.3695060014724731, 0.6489999890327454]"
      ]
     },
     "execution_count": 57,
     "metadata": {},
     "output_type": "execute_result"
    }
   ],
   "source": [
    "model.evaluate(x_test,y_test)"
   ]
  },
  {
   "cell_type": "code",
   "execution_count": null,
   "id": "45925d47",
   "metadata": {},
   "outputs": [],
   "source": []
  },
  {
   "cell_type": "code",
   "execution_count": null,
   "id": "4e2f5a6d",
   "metadata": {},
   "outputs": [],
   "source": []
  }
 ],
 "metadata": {
  "kernelspec": {
   "display_name": "Python 3 (ipykernel)",
   "language": "python",
   "name": "python3"
  },
  "language_info": {
   "codemirror_mode": {
    "name": "ipython",
    "version": 3
   },
   "file_extension": ".py",
   "mimetype": "text/x-python",
   "name": "python",
   "nbconvert_exporter": "python",
   "pygments_lexer": "ipython3",
   "version": "3.11.5"
  }
 },
 "nbformat": 4,
 "nbformat_minor": 5
}
